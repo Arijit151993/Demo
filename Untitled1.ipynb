{
  "nbformat": 4,
  "nbformat_minor": 0,
  "metadata": {
    "colab": {
      "provenance": [],
      "include_colab_link": true
    },
    "kernelspec": {
      "name": "python3",
      "display_name": "Python 3"
    },
    "language_info": {
      "name": "python"
    }
  },
  "cells": [
    {
      "cell_type": "markdown",
      "metadata": {
        "id": "view-in-github",
        "colab_type": "text"
      },
      "source": [
        "<a href=\"https://colab.research.google.com/github/Arijit151993/Demo/blob/main/Untitled1.ipynb\" target=\"_parent\"><img src=\"https://colab.research.google.com/assets/colab-badge.svg\" alt=\"Open In Colab\"/></a>"
      ]
    },
    {
      "cell_type": "code",
      "source": [
        "# # Install necessary libraries\n",
        "# !pip install --upgrade google-api-python-client google-auth-httplib2 google-auth-oauthlib\n",
        "# !pip install bs4\n",
        "import os\n",
        "from google.colab import auth\n",
        "from google.auth.transport.requests import Request\n",
        "from googleapiclient.discovery import build\n",
        "from google.auth.transport.requests import Request\n",
        "import json\n",
        "import re\n",
        "from googleapiclient.errors import HttpError\n",
        "from bs4 import BeautifulSoup\n",
        "\n",
        "# Authenticate and create the service\n",
        "auth.authenticate_user()\n",
        "\n",
        "# Build the Docs API service\n",
        "service = build('docs', 'v1')\n"
      ],
      "metadata": {
        "id": "CwwGXts2bU1V",
        "outputId": "20606325-6236-4365-9923-7d3f90d18566",
        "colab": {
          "base_uri": "https://localhost:8080/",
          "height": 356
        }
      },
      "execution_count": 1,
      "outputs": [
        {
          "output_type": "error",
          "ename": "MessageError",
          "evalue": "Error: credential propagation was unsuccessful",
          "traceback": [
            "\u001b[0;31m---------------------------------------------------------------------------\u001b[0m",
            "\u001b[0;31mMessageError\u001b[0m                              Traceback (most recent call last)",
            "\u001b[0;32m<ipython-input-1-da1a5cea84a7>\u001b[0m in \u001b[0;36m<cell line: 0>\u001b[0;34m()\u001b[0m\n\u001b[1;32m     13\u001b[0m \u001b[0;34m\u001b[0m\u001b[0m\n\u001b[1;32m     14\u001b[0m \u001b[0;31m# Authenticate and create the service\u001b[0m\u001b[0;34m\u001b[0m\u001b[0;34m\u001b[0m\u001b[0m\n\u001b[0;32m---> 15\u001b[0;31m \u001b[0mauth\u001b[0m\u001b[0;34m.\u001b[0m\u001b[0mauthenticate_user\u001b[0m\u001b[0;34m(\u001b[0m\u001b[0;34m)\u001b[0m\u001b[0;34m\u001b[0m\u001b[0;34m\u001b[0m\u001b[0m\n\u001b[0m\u001b[1;32m     16\u001b[0m \u001b[0;34m\u001b[0m\u001b[0m\n\u001b[1;32m     17\u001b[0m \u001b[0;31m# Build the Docs API service\u001b[0m\u001b[0;34m\u001b[0m\u001b[0;34m\u001b[0m\u001b[0m\n",
            "\u001b[0;32m/usr/local/lib/python3.11/dist-packages/google/colab/auth.py\u001b[0m in \u001b[0;36mauthenticate_user\u001b[0;34m(clear_output, project_id)\u001b[0m\n\u001b[1;32m    258\u001b[0m   \u001b[0;32mif\u001b[0m \u001b[0;32mnot\u001b[0m \u001b[0m_check_adc\u001b[0m\u001b[0;34m(\u001b[0m\u001b[0m_CredentialType\u001b[0m\u001b[0;34m.\u001b[0m\u001b[0mUSER\u001b[0m\u001b[0;34m)\u001b[0m\u001b[0;34m:\u001b[0m\u001b[0;34m\u001b[0m\u001b[0;34m\u001b[0m\u001b[0m\n\u001b[1;32m    259\u001b[0m     \u001b[0;32mif\u001b[0m \u001b[0muse_auth_ephem\u001b[0m\u001b[0;34m:\u001b[0m\u001b[0;34m\u001b[0m\u001b[0;34m\u001b[0m\u001b[0m\n\u001b[0;32m--> 260\u001b[0;31m       _message.blocking_request(\n\u001b[0m\u001b[1;32m    261\u001b[0m           \u001b[0;34m'request_auth'\u001b[0m\u001b[0;34m,\u001b[0m\u001b[0;34m\u001b[0m\u001b[0;34m\u001b[0m\u001b[0m\n\u001b[1;32m    262\u001b[0m           \u001b[0mrequest\u001b[0m\u001b[0;34m=\u001b[0m\u001b[0;34m{\u001b[0m\u001b[0;34m'authType'\u001b[0m\u001b[0;34m:\u001b[0m \u001b[0;34m'auth_user_ephemeral'\u001b[0m\u001b[0;34m}\u001b[0m\u001b[0;34m,\u001b[0m\u001b[0;34m\u001b[0m\u001b[0;34m\u001b[0m\u001b[0m\n",
            "\u001b[0;32m/usr/local/lib/python3.11/dist-packages/google/colab/_message.py\u001b[0m in \u001b[0;36mblocking_request\u001b[0;34m(request_type, request, timeout_sec, parent)\u001b[0m\n\u001b[1;32m    174\u001b[0m       \u001b[0mrequest_type\u001b[0m\u001b[0;34m,\u001b[0m \u001b[0mrequest\u001b[0m\u001b[0;34m,\u001b[0m \u001b[0mparent\u001b[0m\u001b[0;34m=\u001b[0m\u001b[0mparent\u001b[0m\u001b[0;34m,\u001b[0m \u001b[0mexpect_reply\u001b[0m\u001b[0;34m=\u001b[0m\u001b[0;32mTrue\u001b[0m\u001b[0;34m\u001b[0m\u001b[0;34m\u001b[0m\u001b[0m\n\u001b[1;32m    175\u001b[0m   )\n\u001b[0;32m--> 176\u001b[0;31m   \u001b[0;32mreturn\u001b[0m \u001b[0mread_reply_from_input\u001b[0m\u001b[0;34m(\u001b[0m\u001b[0mrequest_id\u001b[0m\u001b[0;34m,\u001b[0m \u001b[0mtimeout_sec\u001b[0m\u001b[0;34m)\u001b[0m\u001b[0;34m\u001b[0m\u001b[0;34m\u001b[0m\u001b[0m\n\u001b[0m",
            "\u001b[0;32m/usr/local/lib/python3.11/dist-packages/google/colab/_message.py\u001b[0m in \u001b[0;36mread_reply_from_input\u001b[0;34m(message_id, timeout_sec)\u001b[0m\n\u001b[1;32m    101\u001b[0m     ):\n\u001b[1;32m    102\u001b[0m       \u001b[0;32mif\u001b[0m \u001b[0;34m'error'\u001b[0m \u001b[0;32min\u001b[0m \u001b[0mreply\u001b[0m\u001b[0;34m:\u001b[0m\u001b[0;34m\u001b[0m\u001b[0;34m\u001b[0m\u001b[0m\n\u001b[0;32m--> 103\u001b[0;31m         \u001b[0;32mraise\u001b[0m \u001b[0mMessageError\u001b[0m\u001b[0;34m(\u001b[0m\u001b[0mreply\u001b[0m\u001b[0;34m[\u001b[0m\u001b[0;34m'error'\u001b[0m\u001b[0;34m]\u001b[0m\u001b[0;34m)\u001b[0m\u001b[0;34m\u001b[0m\u001b[0;34m\u001b[0m\u001b[0m\n\u001b[0m\u001b[1;32m    104\u001b[0m       \u001b[0;32mreturn\u001b[0m \u001b[0mreply\u001b[0m\u001b[0;34m.\u001b[0m\u001b[0mget\u001b[0m\u001b[0;34m(\u001b[0m\u001b[0;34m'data'\u001b[0m\u001b[0;34m,\u001b[0m \u001b[0;32mNone\u001b[0m\u001b[0;34m)\u001b[0m\u001b[0;34m\u001b[0m\u001b[0;34m\u001b[0m\u001b[0m\n\u001b[1;32m    105\u001b[0m \u001b[0;34m\u001b[0m\u001b[0m\n",
            "\u001b[0;31mMessageError\u001b[0m: Error: credential propagation was unsuccessful"
          ]
        }
      ]
    },
    {
      "cell_type": "code",
      "source": [
        "DOCUMENT_ID = '1FxUuZ7TJTPJpbuEottA_f-lnPk0MbWxChEk_ej0KxG8'  # Replace with your Google Doc ID\n",
        "\n",
        "# Get the document content\n",
        "document = service.documents().get(documentId=DOCUMENT_ID).execute()\n",
        "content = document.get('body').get('content')\n"
      ],
      "metadata": {
        "id": "TOc2eiPlbZHL"
      },
      "execution_count": null,
      "outputs": []
    },
    {
      "cell_type": "code",
      "source": [
        "def get_formatting_from_html(html_content):\n",
        "    formatting = {'b': 'bold', 'i': 'italic', 'u': 'underline'}\n",
        "    paragraph_splits = []\n",
        "    text_styles = {}\n",
        "\n",
        "    formatted_text = list(html_content)  # Convert to list for easier index tracking\n",
        "    index_map = list(range(len(html_content)))  # Maps original indexes to modified ones\n",
        "    index_offset = 0\n",
        "\n",
        "    # Replace <br> with newline while keeping track of length\n",
        "    for match in re.finditer(r'<br\\s*/?>', html_content):\n",
        "        start = match.start() - index_offset\n",
        "        formatted_text[start:start + len(match.group())] = ['\\n']\n",
        "        index_map[start:start + len(match.group())] = [index_map[start]]\n",
        "        index_offset += len(match.group()) - 1  # Removed chars shift index\n",
        "\n",
        "    # Track paragraph positions & replace <p> tags\n",
        "    for match in re.finditer(r'<p>(.*?)</p>', html_content, re.DOTALL):\n",
        "        para_start = match.start() - index_offset\n",
        "        paragraph_splits.append(para_start)\n",
        "        index_offset += len(\"<p>\") + len(\"</p>\")  # Account for removal\n",
        "\n",
        "    formatted_text = re.sub(r'</?p>', '', \"\".join(formatted_text))\n",
        "\n",
        "    # Apply styles with corrected indexes\n",
        "    clean_text = list(formatted_text)  # Keep text as list\n",
        "    new_offset = 0\n",
        "    style_tags = list(re.finditer(r'<(b|i|u)>(.*?)</\\1>', formatted_text, re.DOTALL))\n",
        "\n",
        "    for match in style_tags:\n",
        "        tag, content = match.groups()\n",
        "        style_key = formatting[tag]\n",
        "\n",
        "        start_index = match.start() - new_offset\n",
        "        end_index = start_index + len(content)\n",
        "\n",
        "        text_styles[start_index] = {style_key: True}\n",
        "        text_styles[end_index] = {style_key: False}\n",
        "\n",
        "        # Remove HTML tags properly\n",
        "        tag_len = len(f\"<{tag}>\") + len(f\"</{tag}>\")\n",
        "        clean_text[start_index:end_index + tag_len] = list(content)\n",
        "        new_offset += tag_len  # Adjust for removed tags\n",
        "\n",
        "    return \"\".join(clean_text), text_styles, paragraph_splits\n"
      ],
      "metadata": {
        "id": "agQiYEi8dUkt"
      },
      "execution_count": null,
      "outputs": []
    },
    {
      "cell_type": "code",
      "source": [
        "def replace_placeholder_with_html(content, placeholders):\n",
        "    requests = []\n",
        "    text_length_changes = {}  # Tracks length changes per placeholder\n",
        "\n",
        "    for placeholder, html_content in placeholders.items():\n",
        "        formatted_text, text_styles, paragraph_splits = get_formatting_from_html(html_content)\n",
        "\n",
        "        for element in content:\n",
        "            if 'paragraph' in element:\n",
        "                for text_run in element['paragraph']['elements']:\n",
        "                    if 'textRun' in text_run and placeholder in text_run['textRun']['content']:\n",
        "                        original_start = text_run['startIndex'] + text_run['textRun']['content'].find(placeholder)\n",
        "                        original_end = original_start + len(placeholder)\n",
        "\n",
        "                        # Calculate cumulative text length change\n",
        "                        start_index = original_start + sum(text_length_changes.get(i, 0) for i in range(original_start))\n",
        "                        end_index = start_index + len(formatted_text)\n",
        "\n",
        "                        # Replace text\n",
        "                        requests.append({\n",
        "                            'replaceAllText': {\n",
        "                                'containsText': {'text': placeholder, 'matchCase': False},\n",
        "                                'replaceText': formatted_text.replace('<<P>>', '')\n",
        "                            }\n",
        "                        })\n",
        "\n",
        "                        # Track length changes for future adjustments\n",
        "                        text_length_changes[original_start] = len(formatted_text.replace('<<P>>', '')) - len(placeholder)\n",
        "\n",
        "                        # Apply styles AFTER text replacement\n",
        "                        for rel_pos, style in text_styles.items():\n",
        "                            abs_start = start_index + rel_pos  # Adjusted to document position\n",
        "                            abs_end = min(abs_start + len(formatted_text), end_index)  # Ensure within bounds\n",
        "\n",
        "                            if abs_start < end_index:\n",
        "                                requests.append({\n",
        "                                    'updateTextStyle': {\n",
        "                                        'range': {'startIndex': abs_start, 'endIndex': abs_end},\n",
        "                                        'textStyle': style,\n",
        "                                        'fields': ', '.join(style.keys())\n",
        "                                    }\n",
        "                                })\n",
        "    # Execute batch update\n",
        "    if requests:\n",
        "        try:\n",
        "            service.documents().batchUpdate(documentId=DOCUMENT_ID, body={'requests': requests}).execute()\n",
        "        except HttpError as error:\n",
        "            print(f\"An error occurred: {error}\")\n",
        "            return None\n"
      ],
      "metadata": {
        "id": "RCi76BNye4NT"
      },
      "execution_count": null,
      "outputs": []
    },
    {
      "cell_type": "code",
      "source": [
        "\n",
        "# Replace the placeholders\n",
        "placeholders = {\n",
        "    \"{Overview}\": \"<b>John Doe</b>\",\n",
        "    \"{Terminology}\": \"<p>This is a course content about the data for your learning<i>1234 Elm Street</i></p>\",\n",
        "    \"{Key_Parameter}\": \"<b>Key Parameter</b><br><p>This is testing data</p>\"\n",
        "}\n",
        "\n",
        "replace_placeholder_with_html(content, placeholders)\n"
      ],
      "metadata": {
        "id": "IfZuBCuKbbPT"
      },
      "execution_count": null,
      "outputs": []
    }
  ]
}